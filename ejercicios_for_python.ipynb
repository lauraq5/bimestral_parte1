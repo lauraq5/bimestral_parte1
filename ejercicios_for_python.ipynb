{
  "nbformat": 4,
  "nbformat_minor": 0,
  "metadata": {
    "colab": {
      "provenance": [],
      "authorship_tag": "ABX9TyOwfiKfUzxccEoXYlDVEwRN",
      "include_colab_link": true
    },
    "kernelspec": {
      "name": "python3",
      "display_name": "Python 3"
    },
    "language_info": {
      "name": "python"
    }
  },
  "cells": [
    {
      "cell_type": "markdown",
      "metadata": {
        "id": "view-in-github",
        "colab_type": "text"
      },
      "source": [
        "<a href=\"https://colab.research.google.com/github/lauraq5/bimestral_parte1/blob/main/ejercicios_for_python.ipynb\" target=\"_parent\"><img src=\"https://colab.research.google.com/assets/colab-badge.svg\" alt=\"Open In Colab\"/></a>"
      ]
    },
    {
      "cell_type": "code",
      "execution_count": null,
      "metadata": {
        "id": "rjKwrryXqfFK"
      },
      "outputs": [],
      "source": []
    },
    {
      "cell_type": "markdown",
      "source": [
        "# INSTRUCCION REPETITIVA FOR"
      ],
      "metadata": {
        "id": "s2vUZRJKsMFk"
      }
    },
    {
      "cell_type": "code",
      "source": [
        "# EJERCICIO 1: mostra los numeros del 1 al 10, sin usar instrucciones repetitivas \n",
        "\n",
        "print(1)\n",
        "print(2)\n",
        "print(3)\n",
        "print(4)\n",
        "print(5)\n",
        "print(6)\n",
        "print(7)\n",
        "print(8)\n",
        "print(9)\n",
        "print(10)\n",
        "\n"
      ],
      "metadata": {
        "id": "FFlnJvajsRn6"
      },
      "execution_count": null,
      "outputs": []
    },
    {
      "cell_type": "code",
      "source": [
        "# EJERCICIO 2: Mostrar los numeros del 1 al 10, usando la instruccion repetitiva while \n",
        "\n",
        "contador = 1 \n",
        "print (contador)\n",
        "while contador <10:\n",
        "  #contador = contador + 1\n",
        "  contador += 1 \n",
        "  print(contador)"
      ],
      "metadata": {
        "id": "0hFPCuDFtsZi"
      },
      "execution_count": null,
      "outputs": []
    },
    {
      "cell_type": "code",
      "source": [
        "# EJERCICIO 3: Mostrar los numeros del 1 al 10, usando la instruccion for y una lista como iterable \n",
        "\n",
        "lista = (1,2,3,4,5,6,7,8,9,10)\n",
        "for i in lista:\n",
        "  print(1)"
      ],
      "metadata": {
        "id": "-PM-6o5hvQ7n"
      },
      "execution_count": null,
      "outputs": []
    },
    {
      "cell_type": "code",
      "source": [
        "# EJERCICIO 4: Mostrar los numeros del 1 al 10, usando la instruccion for y la funcion range \n",
        "\n",
        "for i in range(1,11):\n",
        "  print(1)\n",
        "  "
      ],
      "metadata": {
        "id": "I1EGr-7Cwu7t"
      },
      "execution_count": null,
      "outputs": []
    },
    {
      "cell_type": "code",
      "source": [
        "# EJERCICIO 5: Mostrar una frase 10 veces, usando la nstruccion for y una lista.\n",
        "\n",
        "lista = (1,2,3,4,5,6,7,8,9,10)\n",
        "for i in lista: \n",
        "  print(\"Sistemas, la mejor!!!\")\n"
      ],
      "metadata": {
        "id": "oIc5e5fOxouA"
      },
      "execution_count": null,
      "outputs": []
    },
    {
      "cell_type": "code",
      "source": [
        "# Ejercicio 6: mostrar la silaba inicial de los dias de la semana, usando for y una lista con la silaba inicial de los\n",
        "\n",
        "dias_semana = [\"lu\",\"ma\",\"mi\",\"ju\",\"vi ,\"sa\",\"do\"]\n",
        "for i in dias_semana:\n",
        "  print(i)\n",
        "  "
      ],
      "metadata": {
        "id": "LrQTndA5yqbe"
      },
      "execution_count": null,
      "outputs": []
    },
    {
      "cell_type": "code",
      "source": [
        "# EJERCICIO 7:Mostrar una lista de distintos tipos de datos, usando for \n",
        "\n",
        "lista = (1,3,4, 9,True, \"Nestor\", 8,\"Guanenta\")\n",
        "for i in lista:\n",
        "  print(i)\n"
      ],
      "metadata": {
        "id": "wZV8IrJ3z0lU"
      },
      "execution_count": null,
      "outputs": []
    },
    {
      "cell_type": "code",
      "source": [
        "# EJERCICIO 8: Ingresar su nombre y mostrarlo letra a letra, usando for \n",
        "\n",
        "nombre = input(\"Digite su nombre: \")\n",
        "for letra in nombre:\n",
        "  print(letra)\n",
        "  "
      ],
      "metadata": {
        "id": "OD_dDkR10hNz"
      },
      "execution_count": null,
      "outputs": []
    },
    {
      "cell_type": "code",
      "source": [
        "# EJERCICIO 9: Ingresar su nombre y mostrarlo letra a letra, usando for , cambando por asterisco * a la voca e\n",
        "\n",
        "nombre = input(\"Digite su nombre: \")\n",
        "for letra in nombre:\n",
        "  if letra == \"e\":\n",
        "    print(\"*\")\n",
        "    else:\n",
        "      print(letra)\n"
      ],
      "metadata": {
        "id": "rFfuvF0g09Bz"
      },
      "execution_count": null,
      "outputs": []
    },
    {
      "cell_type": "code",
      "source": [
        "# EJERCICIO 10: Ingresar su nombre y mostrarlo letra a letra, en mayuscula, usando for \n",
        "\n",
        "nombre = input(\"Digite su nombre: \")\n",
        "for letra in nombre:\n",
        "  print(letra.upper())\n",
        "  "
      ],
      "metadata": {
        "id": "sOTo3XBwAAgR"
      },
      "execution_count": null,
      "outputs": []
    },
    {
      "cell_type": "code",
      "source": [
        "# EJERCICIO 11: imprimir listas de numeros usando for y range \n",
        "\n",
        "print(\"Numeros del 0 al 9\")\n",
        "for i in ange(10):\n",
        "  print(i)\n",
        "\n",
        "  print(\"Numeros del 1 al 10\")\n",
        "  for i in range(1,11):\n",
        "    print(i)\n",
        "\n",
        "    print(\"10 veces la frase\")\n",
        "    for i in range(10):\n",
        "      print(\"Sistemas la mejor\")\n",
        "\n",
        "      print(\"10 veces la frase i = \")\n",
        "      for i in range(10):\n",
        "        print(\"i =\" + str(i))\n",
        "\n",
        "        print(\"10 veces la frase i = \")\n",
        "        for i in range(10):\n",
        "          print(f\" i = {i}\")\n",
        "\n",
        "print(\"Rangodel 7 al 10, incrementando de 4 en 4\")\n",
        "for i in range(7,19,4):\n",
        "  print(i)\n",
        "\n",
        "  print(\"Convierte rango en lista a, y la muestra\")\n",
        "  a = list(range(1000))\n",
        "  print(a)\n",
        "      "
      ],
      "metadata": {
        "id": "H8uq7nlTAwaf"
      },
      "execution_count": null,
      "outputs": []
    },
    {
      "cell_type": "markdown",
      "source": [],
      "metadata": {
        "id": "ipkTQD99_9jr"
      }
    }
  ]
}